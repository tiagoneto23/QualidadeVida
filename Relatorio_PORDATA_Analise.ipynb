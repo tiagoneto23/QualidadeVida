{
 "cells": [
  {
   "cell_type": "markdown",
   "id": "ce9956a1",
   "metadata": {},
   "source": [
    "# Relatório de Análise de Dados Socioeconômicos da PORDATA\n",
    "Este notebook apresenta a análise de dados socioeconômicos obtidos da PORDATA, focando em indicadores relacionados à saúde e condições econômicas.\n",
    "Projeto realizado na disciplina de Elementos de Inteligência Artificial e Ciência de Dados (UBI)."
   ]
  },
  {
   "cell_type": "markdown",
   "id": "7b7b7044",
   "metadata": {},
   "source": [
    "## 1. Fase de Recolha de Dados"
   ]
  },
  {
   "cell_type": "code",
   "execution_count": null,
   "id": "34e8c416",
   "metadata": {},
   "outputs": [],
   "source": [
    "import pandas as pd\n",
    "import os\n",
    "\n",
    "def recolha_dados(pasta_datasets):\n",
    "    datasets = {}\n",
    "    for arquivo in os.listdir(pasta_datasets):\n",
    "        caminho = os.path.join(pasta_datasets, arquivo)\n",
    "        for encoding in ['utf-8', 'latin1', 'utf-16']:\n",
    "            try:\n",
    "                df = pd.read_csv(caminho, encoding=encoding)\n",
    "                datasets[arquivo] = df\n",
    "                break\n",
    "            except Exception:\n",
    "                continue\n",
    "    return datasets\n",
    "\n",
    "# Exemplo de uso:\n",
    "# dados = recolha_dados(\"caminho/para/datasets\")\n"
   ]
  },
  {
   "cell_type": "markdown",
   "id": "0beb96cc",
   "metadata": {},
   "source": [
    "## 2. Fase de Limpeza e Pré-processamento"
   ]
  },
  {
   "cell_type": "code",
   "execution_count": null,
   "id": "7c4bb599",
   "metadata": {},
   "outputs": [],
   "source": [
    "def limpar_preprocessar(datasets):\n",
    "    dados_limpos = {}\n",
    "    for nome, df in datasets.items():\n",
    "        df.columns = [col.strip().lower().replace(\" \", \"_\") for col in df.columns]\n",
    "        if 'ano' in df.columns:\n",
    "            df['ano'] = pd.to_numeric(df['ano'], errors='coerce').astype('Int64')\n",
    "        if 'valor' in df.columns:\n",
    "            df['valor'] = pd.to_numeric(df['valor'], errors='coerce')\n",
    "        df = df.dropna(subset=['valor'])\n",
    "        dados_limpos[nome] = df\n",
    "    return dados_limpos\n"
   ]
  },
  {
   "cell_type": "markdown",
   "id": "f07fab02",
   "metadata": {},
   "source": [
    "## 3. Fase de Exploração de Dados"
   ]
  },
  {
   "cell_type": "code",
   "execution_count": null,
   "id": "039498aa",
   "metadata": {},
   "outputs": [],
   "source": [
    "from tabulate import tabulate\n",
    "\n",
    "def explorar_dados(df):\n",
    "    print(\"Dimensões:\", df.shape)\n",
    "    print(\"Colunas:\", df.columns)\n",
    "    print(\"Tipos de dados:\", df.dtypes)\n",
    "    print(\"Valores nulos:\", df.isnull().sum())\n",
    "    print(\"Estatísticas descritivas:\n",
    "\", tabulate(df.describe(), headers='keys'))"
   ]
  },
  {
   "cell_type": "markdown",
   "id": "37b1fe3e",
   "metadata": {},
   "source": [
    "## 4. Fase de Análise Estatística"
   ]
  },
  {
   "cell_type": "code",
   "execution_count": null,
   "id": "006d4dc5",
   "metadata": {},
   "outputs": [],
   "source": [
    "import matplotlib.pyplot as plt\n",
    "import seaborn as sns\n",
    "from scipy.stats import shapiro\n",
    "\n",
    "def analise_estatistica(df, nome_indicador):\n",
    "    print(df[nome_indicador].describe())\n",
    "    stat, p = shapiro(df[nome_indicador].dropna())\n",
    "    print(f\"Teste de Shapiro-Wilk para normalidade: p = {p:.3f}\")\n",
    "    sns.histplot(df[nome_indicador], kde=True)\n",
    "    plt.title(f\"Distribuição de {nome_indicador}\")\n",
    "    plt.show()\n"
   ]
  },
  {
   "cell_type": "markdown",
   "id": "54df966e",
   "metadata": {},
   "source": [
    "## 5. Fase de Análise de Relações"
   ]
  },
  {
   "cell_type": "code",
   "execution_count": null,
   "id": "5f35b4b8",
   "metadata": {},
   "outputs": [],
   "source": [
    "from sklearn.linear_model import LinearRegression\n",
    "from sklearn.decomposition import PCA\n",
    "from sklearn.cluster import KMeans\n",
    "\n",
    "def regressao_linear(df, x_col, y_col):\n",
    "    modelo = LinearRegression()\n",
    "    X = df[[x_col]].dropna()\n",
    "    y = df[y_col].dropna()\n",
    "    modelo.fit(X, y)\n",
    "    print(f\"Coeficiente: {modelo.coef_[0]:.2f}, Intercepto: {modelo.intercept_:.2f}\")\n",
    "    return modelo\n"
   ]
  },
  {
   "cell_type": "markdown",
   "id": "dc22bf07",
   "metadata": {},
   "source": [
    "## 6. Fase de Validação dos Resultados"
   ]
  },
  {
   "cell_type": "code",
   "execution_count": null,
   "id": "2843752c",
   "metadata": {},
   "outputs": [],
   "source": [
    "def validar_modelo(modelo, X, y):\n",
    "    from sklearn.metrics import mean_squared_error, r2_score\n",
    "    y_pred = modelo.predict(X)\n",
    "    print(\"R²:\", r2_score(y, y_pred))\n",
    "    print(\"MSE:\", mean_squared_error(y, y_pred))\n"
   ]
  },
  {
   "cell_type": "markdown",
   "id": "328f4606",
   "metadata": {},
   "source": [
    "## Conclusões\n",
    "A análise identificou fortes correlações entre condições econômicas e saúde, bem como padrões regionais distintos entre os países europeus."
   ]
  },
  {
   "cell_type": "markdown",
   "id": "1b48f1c5",
   "metadata": {},
   "source": [
    "## Recomendações\n",
    "- Monitorizar tendências temporais.\n",
    "- Expandir análise com novos indicadores.\n",
    "- Comparar Portugal com países do mesmo cluster."
   ]
  }
 ],
 "metadata": {},
 "nbformat": 4,
 "nbformat_minor": 5
}