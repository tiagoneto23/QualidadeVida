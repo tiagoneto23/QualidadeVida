## 1. Introdução

Este projeto tem como objetivo analisar a qualidade de vida em Portugal, utilizando dados da PORDATA. Serão explorados diferentes indicadores relacionados à saúde, economia e longevidade, buscando entender padrões, correlações e tendências ao longo dos anos.

---

## 2. Metodologia

O projeto foi dividido em diversas fases:

### 2.1 Recolha de Dados
Os dados utilizados foram extraídos do site da PORDATA e incluem os seguintes ficheiros:
- TAXADEMORTALIDADE.CSV
- PERCEÇAODESAUDE.CSV
- GANHOMEDIOMENSAL.CSV
- ESPERANÇADEVIDA.CSV
- DESPESASAUDE.CSV

### 2.2 Limpeza de Dados
Foi realizada uma limpeza nos datasets para garantir a consistência e a qualidade da análise:
- Remoção de valores nulos ou substituição por média.
- Conversão de valores de texto para números (e.g. trocar vírgulas por pontos).
- Renomeação e uniformização de colunas.

### 2.3 Análise Exploratória
Foram gerados gráficos e estatísticas descritivas para observar o comportamento dos dados:
- Gráficos de linha para evolução temporal.
- Médias, medianas, máximos e mínimos.

### 2.4 Análise Estatística
A análise estatística envolveu:
- Cálculo de correlações entre variáveis.
- Aplicação de PCA para redução de dimensionalidade.
- Clusterização para identificação de grupos de anos semelhantes.

### 2.5 Validação dos Resultados
As descobertas foram analisadas e comparadas com o contexto histórico e social de Portugal para validar a coerência dos resultados.

---

## 3. Conclusão

Através da análise estatística dos dados recolhidos, foi possível identificar padrões e relações importantes entre os indicadores. Observou-se, por exemplo, que o aumento na despesa com saúde tem relação com a melhoria da perceção de saúde e com o aumento da esperança de vida. Além disso, os resultados obtidos através do PCA e da clusterização evidenciaram a existência de grupos distintos de anos com características comuns, contribuindo para uma melhor compreensão da evolução da qualidade de vida em Portugal.
